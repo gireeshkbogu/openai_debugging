{
 "cells": [
  {
   "cell_type": "code",
   "execution_count": 10,
   "id": "8bfd4f01",
   "metadata": {},
   "outputs": [],
   "source": [
    "import asyncio\n",
    "import openai\n",
    "import pprint\n",
    "import difflib\n",
    "from IPython.display import display, HTML\n",
    "from openai import OpenAI\n",
    "import os\n",
    "from dotenv import load_dotenv\n"
   ]
  },
  {
   "cell_type": "code",
   "execution_count": 11,
   "id": "7dccf9ef",
   "metadata": {},
   "outputs": [],
   "source": [
    "load_dotenv()\n",
    "client = OpenAI(api_key=os.environ.get(\"OPENAI_API_KEY\"))\n",
    "GPT_MODEL = \"gpt-3.5-turbo-1106\"\n",
    "SEED = 123"
   ]
  },
  {
   "cell_type": "code",
   "execution_count": 12,
   "id": "5e22876b",
   "metadata": {},
   "outputs": [],
   "source": [
    "# with out seed\n",
    "\n",
    "# with seed\n",
    "\n",
    "def answer_question_with_summary(topic):\n",
    "\n",
    "    system_message = {\n",
    "        \"role\": \"system\", \n",
    "        \"content\": \"You are a helpful assistant that generates short stories. Make it brief.\"\n",
    "    }\n",
    "\n",
    "    user_message = {\n",
    "        \"role\": \"user\", \n",
    "        \"content\": f\"Generate a short story about : {topic}\"\n",
    "    }\n",
    "\n",
    "    completion = client.chat.completions.create(\n",
    "        model=\"gpt-3.5-turbo\",\n",
    "        messages=[system_message, user_message]\n",
    "    )\n",
    "\n",
    "    return completion.choices[0].message.content"
   ]
  },
  {
   "cell_type": "code",
   "execution_count": 13,
   "id": "3b7dd40e",
   "metadata": {},
   "outputs": [
    {
     "data": {
      "text/plain": [
       "\"In the not-so-distant future, a brave group of astronauts embarked on an unprecedented journey to Mars. Packed inside their spacecraft, they left Earth's embrace, filled with excitement and awe. Over months of solitude and countless challenges, they learned to adapt to the unforgiving conditions of space.\\n\\nFinally, the day arrived when they reached the striking red planet. As they stepped onto the Martian terrain, a feeling of wonder consumed them. They marveled at the vast expanse of desolate landscapes, the towering cliffs, and the crimson sky that painted a breathtaking backdrop.\\n\\nDriven by curiosity, they explored the rust-colored deserts, uncovering the secrets of Mars. They gathered valuable data, roamed ancient canyons, and searched for signs of life. Every discovery brought a renewed sense of purpose and the realization that they were part of a historic endeavor.\\n\\nSurviving on meager resources, they faced daunting challenges with unwavering determination. Dust storms threatened their safety, while isolation tugged at their psyche. Yet, the astronauts persisted through the harshest conditions, fueled by an unwavering passion for exploration.\\n\\nAmidst hardship and the weight of their responsibility, the journey to Mars became a transformative experience. It taught them the strength of human resilience, the boundless possibilities of the unknown, and the beauty of unity in the face of adversity.\\n\\nAs their mission neared its conclusion, the astronauts bid farewell to the red planet that had become their home away from home. They left footprints and an indelible mark on Mars, immortalizing their presence in history books and inspiring generations to come.\\n\\nReturning to Earth, they brought with them a legacy of courage, scientific triumphs, and a profound understanding of the limitless wonders the universe holds. Their journey to Mars not only introduced humanity to a new world but also showed the incredible power of human determination and our innate thirst for exploration.\""
      ]
     },
     "execution_count": 13,
     "metadata": {},
     "output_type": "execute_result"
    }
   ],
   "source": [
    "answer_question_with_summary(\"a journey to Mars\")"
   ]
  },
  {
   "cell_type": "code",
   "execution_count": 14,
   "id": "092066e5",
   "metadata": {},
   "outputs": [],
   "source": [
    "# with seed\n",
    "\n",
    "def answer_question_with_summary(topic):\n",
    "\n",
    "    system_message = {\n",
    "        \"role\": \"system\", \n",
    "        \"content\": \"You are a helpful assistant that generates short stories. Make it brief.\"\n",
    "    }\n",
    "\n",
    "    user_message = {\n",
    "        \"role\": \"user\", \n",
    "        \"content\": f\"Generate a short story about : {topic}\"\n",
    "    }\n",
    "\n",
    "    completion = client.chat.completions.create(\n",
    "        model=\"gpt-3.5-turbo\",\n",
    "        seed= SEED,\n",
    "        messages=[system_message, user_message]\n",
    "    )\n",
    "\n",
    "    return completion.choices[0].message.content"
   ]
  },
  {
   "cell_type": "code",
   "execution_count": 15,
   "id": "fd6fb3be",
   "metadata": {},
   "outputs": [
    {
     "data": {
      "text/plain": [
       "\"Sarah, an aspiring astronaut, had dreamt of venturing beyond Earth's atmosphere her entire life. Finally, the day came when she boarded the spaceship destined for Mars. Surrounded by advanced technology and a team of fellow explorers, Sarah embarked on an extraordinary journey. As starry skies and distant planets became her reality, Sarah realized that the true voyage was not just reaching Mars, but discovering the vastness of her own potential.\""
      ]
     },
     "execution_count": 15,
     "metadata": {},
     "output_type": "execute_result"
    }
   ],
   "source": [
    "answer_question_with_summary(\"a journey to Mars\")"
   ]
  },
  {
   "cell_type": "code",
   "execution_count": 16,
   "id": "f36feb57",
   "metadata": {},
   "outputs": [],
   "source": [
    "# try again to see if you can reproduce\n",
    "\n",
    "# with seed\n",
    "\n",
    "def answer_question_with_summary(topic):\n",
    "\n",
    "    system_message = {\n",
    "        \"role\": \"system\", \n",
    "        \"content\": \"You are a helpful assistant that generates short stories. Make it brief.\"\n",
    "    }\n",
    "\n",
    "    user_message = {\n",
    "        \"role\": \"user\", \n",
    "        \"content\": f\"Generate a short story about : {topic}\"\n",
    "    }\n",
    "\n",
    "    completion = client.chat.completions.create(\n",
    "        model=\"gpt-3.5-turbo\",\n",
    "        seed= SEED,\n",
    "        messages=[system_message, user_message]\n",
    "    )\n",
    "\n",
    "    return completion.choices[0].message.content"
   ]
  },
  {
   "cell_type": "code",
   "execution_count": 17,
   "id": "487d0af7",
   "metadata": {},
   "outputs": [
    {
     "data": {
      "text/plain": [
       "\"Sarah, an aspiring astronaut, had dreamt of venturing beyond Earth's atmosphere her entire life. Finally, the day came when she boarded the spaceship destined for Mars. Surrounded by advanced technology and a team of fellow explorers, Sarah embarked on an extraordinary journey. As they reached the red planet, the crew marveled at its barren yet majestic landscape. They stepped onto Mars' surface and conducted groundbreaking scientific research, pushing the boundaries of human knowledge. In the face of challenges and hardships, Sarah's determination persevered, solidifying her place in history as one of the pioneers who brought humanity closer to the stars.\""
      ]
     },
     "execution_count": 17,
     "metadata": {},
     "output_type": "execute_result"
    }
   ],
   "source": [
    "answer_question_with_summary(\"a journey to Mars\")"
   ]
  },
  {
   "cell_type": "code",
   "execution_count": null,
   "id": "6785a538",
   "metadata": {},
   "outputs": [],
   "source": []
  }
 ],
 "metadata": {
  "kernelspec": {
   "display_name": "Python 3 (ipykernel)",
   "language": "python",
   "name": "python3"
  },
  "language_info": {
   "codemirror_mode": {
    "name": "ipython",
    "version": 3
   },
   "file_extension": ".py",
   "mimetype": "text/x-python",
   "name": "python",
   "nbconvert_exporter": "python",
   "pygments_lexer": "ipython3",
   "version": "3.10.9"
  }
 },
 "nbformat": 4,
 "nbformat_minor": 5
}
